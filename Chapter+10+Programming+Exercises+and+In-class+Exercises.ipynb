{
 "cells": [
  {
   "cell_type": "code",
   "execution_count": 1,
   "metadata": {
    "collapsed": true
   },
   "outputs": [],
   "source": [
    "from textblob import TextBlob"
   ]
  },
  {
   "cell_type": "code",
   "execution_count": 2,
   "metadata": {
    "collapsed": true
   },
   "outputs": [],
   "source": [
    "gravity = TextBlob('A screaming comes across the sky.')"
   ]
  },
  {
   "cell_type": "code",
   "execution_count": 3,
   "metadata": {
    "collapsed": false
   },
   "outputs": [
    {
     "data": {
      "text/plain": [
       "WordList(['A', 'screaming', 'comes', 'across', 'the', 'sky'])"
      ]
     },
     "execution_count": 3,
     "metadata": {},
     "output_type": "execute_result"
    }
   ],
   "source": [
    "gravity.words"
   ]
  },
  {
   "cell_type": "code",
   "execution_count": 4,
   "metadata": {
    "collapsed": false
   },
   "outputs": [
    {
     "data": {
      "text/plain": [
       "WordList(['A', 'screaming', 'comes', 'across', 'the', 'sky'])"
      ]
     },
     "execution_count": 4,
     "metadata": {},
     "output_type": "execute_result"
    }
   ],
   "source": [
    "TextBlob('A screaming comes across the sky.').words"
   ]
  },
  {
   "cell_type": "code",
   "execution_count": 5,
   "metadata": {
    "collapsed": false
   },
   "outputs": [
    {
     "data": {
      "text/plain": [
       "6"
      ]
     },
     "execution_count": 5,
     "metadata": {},
     "output_type": "execute_result"
    }
   ],
   "source": [
    "len(gravity.words)"
   ]
  },
  {
   "cell_type": "code",
   "execution_count": 6,
   "metadata": {
    "collapsed": false
   },
   "outputs": [
    {
     "data": {
      "text/plain": [
       "WordList(['A', 'screaming', 'comes'])"
      ]
     },
     "execution_count": 6,
     "metadata": {},
     "output_type": "execute_result"
    }
   ],
   "source": [
    "gravity.words[:3]"
   ]
  },
  {
   "cell_type": "code",
   "execution_count": 7,
   "metadata": {
    "collapsed": false
   },
   "outputs": [
    {
     "data": {
      "text/plain": [
       "['A', 'across', 'comes', 'screaming', 'sky', 'the']"
      ]
     },
     "execution_count": 7,
     "metadata": {},
     "output_type": "execute_result"
    }
   ],
   "source": [
    "sorted(gravity.words)"
   ]
  },
  {
   "cell_type": "code",
   "execution_count": 8,
   "metadata": {
    "collapsed": false
   },
   "outputs": [
    {
     "data": {
      "text/plain": [
       "WordList(['A', 'screaming', 'comes', 'across', 'the', 'sky', '.'])"
      ]
     },
     "execution_count": 8,
     "metadata": {},
     "output_type": "execute_result"
    }
   ],
   "source": [
    "gravity.tokens"
   ]
  },
  {
   "cell_type": "code",
   "execution_count": 9,
   "metadata": {
    "collapsed": false
   },
   "outputs": [
    {
     "data": {
      "text/plain": [
       "WordList(['Ca', \"n't\", 'touch', 'this', '.'])"
      ]
     },
     "execution_count": 9,
     "metadata": {},
     "output_type": "execute_result"
    }
   ],
   "source": [
    "TextBlob(\"Can't touch this.\").tokens"
   ]
  },
  {
   "cell_type": "code",
   "execution_count": 12,
   "metadata": {
    "collapsed": false
   },
   "outputs": [
    {
     "data": {
      "text/plain": [
       "WordList(['Can', 'not', 'touch', 'this', '.'])"
      ]
     },
     "execution_count": 12,
     "metadata": {},
     "output_type": "execute_result"
    }
   ],
   "source": [
    "TextBlob('Cannot touch this.').tokens"
   ]
  },
  {
   "cell_type": "code",
   "execution_count": 13,
   "metadata": {
    "collapsed": true
   },
   "outputs": [],
   "source": [
    "pride = TextBlob('It is a truth universally ackknowledged, that a single man in possession of a good fortune, must be in want of a wife.')"
   ]
  },
  {
   "cell_type": "code",
   "execution_count": 15,
   "metadata": {
    "collapsed": false,
    "scrolled": true
   },
   "outputs": [
    {
     "data": {
      "text/plain": [
       "[('It', u'PRP'),\n",
       " ('is', u'VBZ'),\n",
       " ('a', u'DT'),\n",
       " ('truth', u'NN'),\n",
       " ('universally', u'RB'),\n",
       " ('ackknowledged', u'VBD'),\n",
       " ('that', u'IN'),\n",
       " ('a', u'DT'),\n",
       " ('single', u'JJ'),\n",
       " ('man', u'NN'),\n",
       " ('in', u'IN'),\n",
       " ('possession', u'NN'),\n",
       " ('of', u'IN'),\n",
       " ('a', u'DT'),\n",
       " ('good', u'JJ'),\n",
       " ('fortune', u'NN'),\n",
       " ('must', u'MD'),\n",
       " ('be', u'VB'),\n",
       " ('in', u'IN'),\n",
       " ('want', u'NN'),\n",
       " ('of', u'IN'),\n",
       " ('a', u'DT'),\n",
       " ('wife', u'NN')]"
      ]
     },
     "execution_count": 15,
     "metadata": {},
     "output_type": "execute_result"
    }
   ],
   "source": [
    "pride.tags"
   ]
  },
  {
   "cell_type": "code",
   "execution_count": 16,
   "metadata": {
    "collapsed": true
   },
   "outputs": [],
   "source": [
    "count = 0\n",
    "for (word, tag) in pride.tags:\n",
    "    if tag == 'JJ':\n",
    "        count = count + 1"
   ]
  },
  {
   "cell_type": "code",
   "execution_count": 17,
   "metadata": {
    "collapsed": false
   },
   "outputs": [
    {
     "ename": "NameError",
     "evalue": "name 'adjs' is not defined",
     "output_type": "error",
     "traceback": [
      "\u001b[0;31m---------------------------------------------------------------------------\u001b[0m",
      "\u001b[0;31mNameError\u001b[0m                                 Traceback (most recent call last)",
      "\u001b[0;32m<ipython-input-17-0c370a1c7cc4>\u001b[0m in \u001b[0;36m<module>\u001b[0;34m()\u001b[0m\n\u001b[0;32m----> 1\u001b[0;31m \u001b[0madjs\u001b[0m\u001b[0;34m(\u001b[0m\u001b[0mpride\u001b[0m\u001b[0;34m)\u001b[0m\u001b[0;34m\u001b[0m\u001b[0m\n\u001b[0m",
      "\u001b[0;31mNameError\u001b[0m: name 'adjs' is not defined"
     ]
    }
   ],
   "source": [
    "def "
   ]
  },
  {
   "cell_type": "code",
   "execution_count": 18,
   "metadata": {
    "collapsed": true
   },
   "outputs": [],
   "source": [
    "from textblob import TextBlob"
   ]
  },
  {
   "cell_type": "code",
   "execution_count": 20,
   "metadata": {
    "collapsed": false
   },
   "outputs": [
    {
     "data": {
      "text/plain": [
       "Sentiment(polarity=0.55, subjectivity=0.725)"
      ]
     },
     "execution_count": 20,
     "metadata": {},
     "output_type": "execute_result"
    }
   ],
   "source": [
    "TextBlob('This movie was a great experience, and not disappointing.').sentiment"
   ]
  },
  {
   "cell_type": "code",
   "execution_count": 22,
   "metadata": {
    "collapsed": false
   },
   "outputs": [
    {
     "data": {
      "text/plain": [
       "Sentiment(polarity=0.10000000000000003, subjectivity=0.725)"
      ]
     },
     "execution_count": 22,
     "metadata": {},
     "output_type": "execute_result"
    }
   ],
   "source": [
    "TextBlob('This movie was a great experience, and disappointing.').sentiment"
   ]
  },
  {
   "cell_type": "code",
   "execution_count": 69,
   "metadata": {
    "collapsed": false
   },
   "outputs": [
    {
     "data": {
      "text/plain": [
       "Sentiment(polarity=0.83125, subjectivity=0.95625)"
      ]
     },
     "execution_count": 69,
     "metadata": {},
     "output_type": "execute_result"
    }
   ],
   "source": [
    "TextBlob('We are exuberant, wonderful, happy, excellent, great, awesome, superb, glorious, and perfect.').sentiment"
   ]
  },
  {
   "cell_type": "code",
   "execution_count": 68,
   "metadata": {
    "collapsed": false
   },
   "outputs": [
    {
     "data": {
      "text/plain": [
       "Sentiment(polarity=-0.7625, subjectivity=0.9333333333333333)"
      ]
     },
     "execution_count": 68,
     "metadata": {},
     "output_type": "execute_result"
    }
   ],
   "source": [
    "TextBlob('Sad, disposable, ugly, horrible, bad, dangerous, terrible, awful, deplorable dogs.').sentiment"
   ]
  },
  {
   "cell_type": "code",
   "execution_count": 70,
   "metadata": {
    "collapsed": false
   },
   "outputs": [
    {
     "data": {
      "text/plain": [
       "Sentiment(polarity=0.44285714285714284, subjectivity=0.7428571428571429)"
      ]
     },
     "execution_count": 70,
     "metadata": {},
     "output_type": "execute_result"
    }
   ],
   "source": [
    "TextBlob('I am loving life right now, and could not be happier if I tried.').sentiment"
   ]
  },
  {
   "cell_type": "code",
   "execution_count": 75,
   "metadata": {
    "collapsed": false
   },
   "outputs": [
    {
     "data": {
      "text/plain": [
       "Sentiment(polarity=-0.7625, subjectivity=0.9333333333333333)"
      ]
     },
     "execution_count": 75,
     "metadata": {},
     "output_type": "execute_result"
    }
   ],
   "source": [
    "TextBlob('Sad, disposable, ugly, horrible, bad, dangerous, terrible, awful, deplorable dogs.').sentiment"
   ]
  },
  {
   "cell_type": "code",
   "execution_count": 76,
   "metadata": {
    "collapsed": false
   },
   "outputs": [
    {
     "data": {
      "text/plain": [
       "Sentiment(polarity=0.0, subjectivity=0.0)"
      ]
     },
     "execution_count": 76,
     "metadata": {},
     "output_type": "execute_result"
    }
   ],
   "source": [
    "TextBlob('You can dance, and you can jive.').sentiment"
   ]
  },
  {
   "cell_type": "code",
   "execution_count": 77,
   "metadata": {
    "collapsed": false
   },
   "outputs": [
    {
     "data": {
      "text/plain": [
       "Sentiment(polarity=0.44285714285714284, subjectivity=0.7428571428571429)"
      ]
     },
     "execution_count": 77,
     "metadata": {},
     "output_type": "execute_result"
    }
   ],
   "source": [
    "TextBlob('I am loving life right now, and could not be happier if I tried.').sentiment"
   ]
  },
  {
   "cell_type": "code",
   "execution_count": 78,
   "metadata": {
    "collapsed": false
   },
   "outputs": [
    {
     "data": {
      "text/plain": [
       "Sentiment(polarity=0.7, subjectivity=0.6000000000000001)"
      ]
     },
     "execution_count": 78,
     "metadata": {},
     "output_type": "execute_result"
    }
   ],
   "source": [
    "TextBlob('Life is good.').sentiment"
   ]
  },
  {
   "cell_type": "code",
   "execution_count": 80,
   "metadata": {
    "collapsed": false
   },
   "outputs": [
    {
     "data": {
      "text/plain": [
       "Sentiment(polarity=0.0, subjectivity=0.0)"
      ]
     },
     "execution_count": 80,
     "metadata": {},
     "output_type": "execute_result"
    }
   ],
   "source": [
    "TextBlob('Everyone lies.').sentiment"
   ]
  },
  {
   "cell_type": "code",
   "execution_count": 83,
   "metadata": {
    "collapsed": false
   },
   "outputs": [
    {
     "data": {
      "text/plain": [
       "Sentiment(polarity=0.0, subjectivity=0.0)"
      ]
     },
     "execution_count": 83,
     "metadata": {},
     "output_type": "execute_result"
    }
   ],
   "source": [
    "TextBlob('All alone whether you like it or not, alone is something you will be quite a lot.').sentiment"
   ]
  },
  {
   "cell_type": "code",
   "execution_count": 84,
   "metadata": {
    "collapsed": false
   },
   "outputs": [
    {
     "data": {
      "text/plain": [
       "Sentiment(polarity=0.44285714285714284, subjectivity=0.7428571428571429)"
      ]
     },
     "execution_count": 84,
     "metadata": {},
     "output_type": "execute_result"
    }
   ],
   "source": [
    "TextBlob('I am loving life right now, and could not be happier if I tried.').sentiment"
   ]
  },
  {
   "cell_type": "code",
   "execution_count": 85,
   "metadata": {
    "collapsed": false
   },
   "outputs": [
    {
     "data": {
      "text/plain": [
       "Sentiment(polarity=0.0625, subjectivity=0.375)"
      ]
     },
     "execution_count": 85,
     "metadata": {},
     "output_type": "execute_result"
    }
   ],
   "source": [
    "TextBlob('I dream because there is no other way I could see it happen.').sentiment"
   ]
  },
  {
   "cell_type": "code",
   "execution_count": 86,
   "metadata": {
    "collapsed": false,
    "scrolled": true
   },
   "outputs": [
    {
     "data": {
      "text/plain": [
       "Sentiment(polarity=0.3142857142857143, subjectivity=0.20714285714285713)"
      ]
     },
     "execution_count": 86,
     "metadata": {},
     "output_type": "execute_result"
    }
   ],
   "source": [
    "TextBlob('Thousands of candles can be lighted from a single candle, and the life of the candle will not be shortened. Happiness never decreases by being shared.').sentiment"
   ]
  },
  {
   "cell_type": "code",
   "execution_count": 87,
   "metadata": {
    "collapsed": false
   },
   "outputs": [
    {
     "data": {
      "text/plain": [
       "Sentiment(polarity=-0.8, subjectivity=0.9)"
      ]
     },
     "execution_count": 87,
     "metadata": {},
     "output_type": "execute_result"
    }
   ],
   "source": [
    "TextBlob('I hate my life and loathe everyone.').sentiment"
   ]
  },
  {
   "cell_type": "code",
   "execution_count": 92,
   "metadata": {
    "collapsed": false
   },
   "outputs": [
    {
     "data": {
      "text/plain": [
       "Sentiment(polarity=0.6, subjectivity=1.0)"
      ]
     },
     "execution_count": 92,
     "metadata": {},
     "output_type": "execute_result"
    }
   ],
   "source": [
    "TextBlob('All the noise of this life of failures, a life that was never even his own to begin with.').sentiment"
   ]
  },
  {
   "cell_type": "code",
   "execution_count": 89,
   "metadata": {
    "collapsed": false
   },
   "outputs": [
    {
     "name": "stdout",
     "output_type": "stream",
     "text": [
      "Man, it is hot.\n",
      "I erase many men.\n",
      "Part animal, can I live?\n",
      "Oh, sit in ample hot spots.\n"
     ]
    }
   ],
   "source": [
    "blob = TextBlob(open(\"palindromepoem.txt\").read())\n",
    "for item in blob.sentences:\n",
    "    if item.sentiment.polarity > 0:\n",
    "        print item.replace('\\n', ' ')"
   ]
  },
  {
   "cell_type": "code",
   "execution_count": 90,
   "metadata": {
    "collapsed": true
   },
   "outputs": [],
   "source": [
    "from textblob import TextBlob\n",
    "blob = TextBlob(open(\"straka_chapter.txt\").read().decode('ascii', errors=\"replace\"))"
   ]
  },
  {
   "cell_type": "code",
   "execution_count": 91,
   "metadata": {
    "collapsed": false,
    "scrolled": false
   },
   "outputs": [
    {
     "name": "stdout",
     "output_type": "stream",
     "text": [
      "He recognizes it at the very moment he feels the tug on his trouser leg.\n",
      "The monkey, somehow, looks to be in much more vigorous health, and from its toothless mouth comes a vocalization of a sort that S. has never heard from it, free from taunt or condescension or irritation.\n",
      "The monkey raises one hand, showing S. a jagged chunk of dark-gray rock, turning it back and forth as if it expects the light from the naked bulb ahead of them to catch one of its facets and make it gleam.\n",
      "Then, with surprising strength and dexterity, the monkey wrenches out the loosened bung and sets the black wine spilling, arcing out into the path where it splatters and puddles on the packed earth.\n",
      "And the blue-black sheen on the surface of the puddles-this, this is the precious thing that has caught the light.\n",
      "He holds out a cupped hand, to taste- Sola���s distress call, and a masculine shout.\n",
      "Which came first?\n",
      "No broken bones.\n",
      "Pain and nothing more.\n",
      "And the pain awakens him more fully to what he should have understood more fully a long time ago: more important than thwarting V��voda, more important than precious story and its circulation of truth, is Sola.\n",
      "What is most important to him is Sola.\n",
      "One note from her whistle, but one that he only recognizes as the first syllable of a longer call.\n",
      "Do whatever you must do to stay safe.\n",
      "Frivolous people, but well capitalized, and they appear to be enjoying themselves amid this unexpectedly dramatic scene.\n",
      "They have not before experienced such a direct challenge, physical threat.\n",
      "This first impression has left him ambivalent.\n",
      "The woman sips while her husband helps the Agent complete the arrangements.\n",
      "The resistance had knocked it a degree off true.\n",
      "The voices now sound conversational.\n",
      "He crouches in the shadow of a barrel in the darkest part of the passage, midway between the light at one end and the light at the other.\n",
      "These are the footsteps of a man who walks unafraid, who is certain he will have the best of any opposition he encounters.\n",
      "It opens its mouth but makes no sound, as if it knows better.\n",
      "Where is the rage, the sound of confrontation and struggle?\n",
      "He is a young man, tall and athletic, all confidence and jutting jaw.\n",
      "A fitting end?\n",
      "What fun it is, to be full of the loveliest of wines and tootling away like a canary!\n",
      "He is a delightful little man, immaculate of dress, and with that perfect white Charlie-why, the tips of the mustache fairly wink at her when he offers that sly smile!\n",
      "He is their host, and as such his discomfiture is, to be perfectly frank about the whole thing, more than a bit inconsiderate.\n",
      "He will be extraordinarily helpful to them, and she would not like to feel indebted to a rude person.\n",
      "And now-a pretty pistol in his hand!\n",
      "He hasn���t looked away from the rack since he finished helping the Agent in that most exciting business.\n",
      "The monkey runs along with him, so closely as to be nearly underfoot, but they never tangle, never even touch.\n",
      "They make errors as they follow the voice-it���s now just one voice, and S. is certain it���s V��voda���s.\n",
      "S. resents the monkey for not having a more finely-tuned animal sense of direction.\n",
      "He imagines-even as he runs, even as he strains to fix the voice���s location-the life he and Sola might find waiting when they return to the surface, the wine spilled, their work complete.\n",
      "He pictures them boarding the ship to soft-spoken expressions of admiration from the crew, paddling out through the pirate���s passage, and letting the wind send them freely skimming over the seas.\n",
      "He stills this vision in the most perfect of settings: an orange sky, just shy of dusk; a sturdy warm breeze filling the sails; their wake whitening to the water behind them, ever and always marking where they have been but need never go again.\n",
      "He knows this, somehow, knows that it is folly to pretend they are safe, that they are anything but doomed.\n",
      "These devices, one of which saved his life an age ago, will kill him, and it will kill him at the very moment at which he most wants to live.\n",
      "Such a potent but discreet little weapon!\n",
      "His rudeness aside, it���s all quite thrilling.\n",
      "The physics of sound cooperates, finally, and when the sound of the cocked hammer reaches S.���s ears, he knows precisely where the sound came from.\n",
      "His advantage will be in his speed, in his ferocity, in his absolute need to find her.\n",
      "It clatters across the floor, a surface of smooth, polished stone.\n",
      "S. hears a furious growl issue from someone���s throat, though he cannot tell if it is V��voda���s or his own.\n",
      "S. sees clearly the animal���s face, its small proud chin extending, its simple mouth wide, all the force in its body ready to spring.\n",
      "Once, twice, several times more.\n",
      "On the smooth stone are spatters and streams and the fine settled particles of a blue-black mist.\n",
      "Khatef-Zelh, still young, unchanged from when he met her in El-H___.\n",
      "The noise in his head: all the voices of all the cities, all the scream and static from the skies over the sea, all the thunder of bombs falling to earth.\n",
      "All the noise of this life of failures, a life that was never even his own to begin with.\n",
      "Across the room the transparent man raises his hands and presses them over his ears as the wound on his shoulder bleeds freely.\n",
      "So many voices, desperate, raging, pained, hopeless, and all of them are his own.\n",
      "It occurs to you for the first time that this man has never known that he is transparent.\n",
      "You are old.\n",
      "The man now has only two wants.\n"
     ]
    }
   ],
   "source": [
    "for item in blob.sentences:\n",
    "    if item.sentiment.polarity > 0:\n",
    "        print item.replace('\\n', ' ')"
   ]
  },
  {
   "cell_type": "code",
   "execution_count": 93,
   "metadata": {
    "collapsed": false
   },
   "outputs": [
    {
     "name": "stdout",
     "output_type": "stream",
     "text": [
      "There may be Agents waiting, but there will be more workers, and they will all carry axes and chisels and any other implements they can use to destroy these barrels and let the black wine- He sniffs: a rank smell cutting through the olfactory fog of blue-black and earth.\n",
      "It sounds-and here, S. wonders if the air in the cellars is fogging his mind-as if the monkey is mimicking the run of notes in S���s last whistle-call to Sola.\n",
      "When S. whispers, \"I don���t understand,\" the monkey darts ahead to the next barrel and beats the rock against its face, circling the bung.\n",
      "The sounds are loud, sharp, and echoing; everyone in the cellars will hear, has already heard.\n",
      "S. lurches toward the monkey, grabs at it, but catches only a tuft of fur which comes away in his hand.\n",
      "How long has he been wavering drunkenly?\n",
      "How long has he been still?\n",
      "He leaves behind the monkey, who darts to the next barrel.\n",
      "His first thought is of Pfeifer, of being immobilized, unable to continue, unable to save himself or anyone else, but he is able to stand.\n",
      "The monkey, no doubt tasting the fruit of its work.\n",
      "Deeper into the twisted descent there are voices, several male, and hers.\n",
      "Forward, while somewhere behind him, somewhere in the cellars where, too, this light cannot reach, the monkey destroys and, S. imagines, prances drunkenly through its destruction.\n",
      "They raise glasses to each other, celebrating their understanding.\n",
      "Silence would have concerned him, but to hear their calm is terrifying.\n",
      "The sound of an Agent approaching is merely annoying, as it requires his stillness.\n",
      "His nose fills with the rich, rank smell of unwashed fur soaked in blue-black.\n",
      "He turns his head and finds the monkey there, at eye level.\n",
      "But here in the shadows the monkey sits, and S. has little choice but to sit silently beside it and listen to those voices ahead.\n",
      "The Agent strides past them, in duster and fedora.\n",
      "Through the dark: a scatter of whistled notes, as if they were flung carelessly into a wind.\n",
      "She hopes it will not worsen and become rude.\n",
      "She ought not have expected him to.\n",
      "It���s understandable, she supposes, but it���s still a bit rude, even for him.\n",
      "They follow pathways that run to dead ends, hesitate at forks before choosing incorrectly and having to double back.\n",
      "The sun, the wind, each other-none of it can beat back the dread that rises when he realizes that these waters are heavily mined.\n",
      "It won���t be long before they hit one.\n",
      "He can see, ahead, the path splitting into a T; when he and the monkey turn the corner to the left, they will find the man holding the pistol.\n",
      "It is too late, and he is too close, to bother with stealth.\n",
      "The monkey screeches, it sounds like a war whoop.\n",
      "S. sees the pistol, waving erratically as it is brandished; he notes four wine barrels arranged haphazardly in one corner, startles at how well-lit the room is, intuits that the room is a rectangle and that he and V��voda-this white-haired and white-bearded and anxious and tiny man-are facing each other at its only point of entry or exit.\n",
      "He hurls himself at this man with a firearm, noting two other people in the room and a dumbwaiter on the far wall and knowing that if V��voda manages to get off a shot, the bullet will miss him because V��voda has no training and little nerve; he makes weapons but has never had cause to use them.\n",
      "Close, closer as the small frame struggles beneath him, a pain rippling through his trunk and into the incandescent room.\n",
      "The monkey appears beside them, shrieking, raising itself up with the rock in its hand.\n",
      "Time pitches forward as the monkey brings the rock down at them.\n",
      "S. stares, slow to understand what she means.\n",
      "She yanks the man along with her, marching him past S. and the monkey and the remains of V��voda.\n",
      "He moves himself toward the space where they had been, in front of the barrel rack, because he sees now that it is not all empty.\n",
      "Black wine is still dripping from her mouth.\n",
      "Her lips are still wet.\n",
      "The faces are too darkly inked for him to make out the features until he stands close.\n",
      "The baby from the Territory, he feverishly decides, though it���s difficult to say.\n",
      "But they are here, and it is because he failed them.\n",
      "You stretch your stiff limbs.\n",
      "You know when a thing is dead.\n",
      "Why would you even think to gaze into a dead eye?\n",
      "He shakes so hard you can see a thousand man-shaped outlines within him flutter and blur.\n",
      "He drops to one knee, to the other, to the ground.\n",
      "His clothing is blood and black wine.\n",
      "Why sit with the dead?\n",
      "How could any creature fail to understand such a fundamental thing about itself?\n",
      "You met the transparent man long ago, and that has always been what he is.\n",
      "He wants to pick up the knife and carve a strange shape into the stove-in man���s face, or maybe into the pale, white-furred skin of his belly, but he does not want that enough to do it.\n",
      "You are soaked in black wine, and you understand doom.\n",
      "You do not stay underground with the dead.\n",
      "You wonder if, all this time, there has been something essential about him you have failed to understand.\n"
     ]
    }
   ],
   "source": [
    "for item in blob.sentences:\n",
    "    if item.sentiment.polarity < 0:\n",
    "        print item.replace('\\n', ' ')"
   ]
  },
  {
   "cell_type": "code",
   "execution_count": 94,
   "metadata": {
    "collapsed": true
   },
   "outputs": [],
   "source": [
    "from textblob import TextBlob\n",
    "blob = TextBlob(open(\"SOT288.txt\").read().decode('ascii', errors=\"replace\"))"
   ]
  },
  {
   "cell_type": "code",
   "execution_count": 95,
   "metadata": {
    "collapsed": false
   },
   "outputs": [
    {
     "name": "stdout",
     "output_type": "stream",
     "text": [
      "And when, another fifty yards along a straight, downward-sloping corridor, he turn to his left and finds Sola.\n",
      "He watches her face - her open and steady face - and he knows that she can see through him.\n",
      "He finds himself repeating her words without conscious effort.\n",
      "Then another - a high scream of deranged glee.\n",
      "The monkey seems to have re-acquired the piss-and-vinegar of its youth and is scampering wildly between and under barrels, pulling out the bungs and tossing them far away.\n",
      "A pull of the trigger right now would erase both of them, immediately and irrevocably.\n",
      "[/i] Sola slips S. a lighter, a naphta lighter, the most powerful weapon that anyone in the cellar possesses.\n",
      "Perhaps he sees the cool embrace of self-destruction for a noble end in them both.\n",
      "He lowers the gun, tosses it to the ground near S.'s feet.\n",
      "This isn't a threat, he reassures himself, and besides, he'd better go see what his damned son has gotten them into now.\n"
     ]
    }
   ],
   "source": [
    "for item in blob.sentences:\n",
    "    if item.sentiment.polarity > 0:\n",
    "        print item.replace('\\n', ' ')"
   ]
  },
  {
   "cell_type": "code",
   "execution_count": 96,
   "metadata": {
    "collapsed": false
   },
   "outputs": [
    {
     "name": "stdout",
     "output_type": "stream",
     "text": [
      "The effort to keep all of that desperate action from going to waste.\n",
      "The monkey.\n",
      "They stumble onto a scene - oh, if only S. knew how to paint!\n",
      "V��voda, upon seeing Sola and S. enter the room shifts the focus of the gun from the monkey to them.\n",
      "He glances nervously at the black wine that pours onto the floor, threatening to stain his shoes.\n",
      "Her words echo again, [i]We are we and we have been we for a long, long time.\n",
      "\"Put down the gun,\" S. says.\n",
      "V��voda pushes past them and plods up the inclined passage.\n",
      "The monkey continues its work, creating a flood of dark black wine.\n"
     ]
    }
   ],
   "source": [
    "for item in blob.sentences:\n",
    "    if item.sentiment.polarity < 0:\n",
    "        print item.replace('\\n', ' ')"
   ]
  },
  {
   "cell_type": "code",
   "execution_count": 97,
   "metadata": {
    "collapsed": false
   },
   "outputs": [
    {
     "name": "stdout",
     "output_type": "stream",
     "text": [
      "out of his eyes.\n",
      "S. notices her puzzled look, her questioning glare, as if she looks at a creature she has never seen before.\n",
      "A curiosity, a transparent man.\n",
      "\"Something has changed,\" she says, \"you've changed.\"\n",
      "Of course she can, how could he think otherwise?\n",
      "But he sees through her as well.\n",
      "She has a willingness, without hesitation, without further thought, to lose everything.\n",
      "Because it is the effort to resist that matters, the effort to preserve the voices and narratives the barrels contain.\n",
      "In contrast S. has resigned himself to the infinite circle.\n",
      "There will always be another V��voda, another S. No matter what the outcome of his choices.\n",
      "If he lives or dies does not matter.\n",
      "So why push forward when the outcome is always the same?\n",
      "He turns away from Sola.\n",
      "She grabs his wrist.\n",
      "He is terrified of what she must think.\n",
      "Terrified of how she will judge him.\n",
      "Terrified of losing her again.\n",
      "Here is where Time collects, collides, all at once.\n",
      "She pulls him close.\n",
      "\"Trust or faith,\" she says.\n",
      "Those three words.\n",
      "They are his words.\n",
      "He had said them in the Winter City.\n",
      "Since then, since that moment, S. had not lost her.\n",
      "They were the words that bound them together.\n",
      "There is a scream, a scream of outrage, from the halls which S. knows is V��voda's.\n",
      "S. and Sola follow the yells and shrieks through the twisting halls.\n",
      "how arrestingly strange the image would be - V��voda, white haired, and white bearded, and blanched of color, swings a pistol around wildly trying to draw a bead on the white-muzzled monkey.\n",
      "Tremors shake his hand.\n",
      "The gun is aimed at S.'s head, and in the way they are standing Sola as well.\n",
      "Sola grab's S.'s hand and squeezes an affirmation that she is there.\n",
      "She has always been there, she will always be there.\n",
      "He positions his thumb over the flint wheel.\n",
      "V��voda looks to S., looks to Sola.\n",
      "Studies them.\n",
      "Assesses their threat and the truth of it.\n",
      "Together it is overpowering.\n",
      "\"Unless you know how to get back,\" S. says to Sola, \"we should follow him.\"\n",
      "\"Keep the lighter out,\" she tells him, \"and keep your thumb on the wheel.\"\n"
     ]
    }
   ],
   "source": [
    "for item in blob.sentences:\n",
    "    if item.sentiment.polarity == 0:\n",
    "        print item.replace('\\n', ' ')"
   ]
  },
  {
   "cell_type": "code",
   "execution_count": 101,
   "metadata": {
    "collapsed": false
   },
   "outputs": [],
   "source": [
    "for item in blob.sentences:\n",
    "    if item.sentiment.polarity > .7:\n",
    "        print item.replace('\\n', ' ')"
   ]
  },
  {
   "cell_type": "code",
   "execution_count": 104,
   "metadata": {
    "collapsed": true
   },
   "outputs": [],
   "source": [
    "for item in blob.sentences:\n",
    "    if item.sentiment.polarity > 0.8:\n",
    "        print item.replace('\\n', ' ')"
   ]
  },
  {
   "cell_type": "code",
   "execution_count": 103,
   "metadata": {
    "collapsed": false
   },
   "outputs": [
    {
     "name": "stdout",
     "output_type": "stream",
     "text": [
      "out of his eyes.\n",
      "And when, another fifty yards along a straight, downward-sloping corridor, he turn to his left and finds Sola.\n",
      "S. notices her puzzled look, her questioning glare, as if she looks at a creature she has never seen before.\n",
      "A curiosity, a transparent man.\n",
      "\"Something has changed,\" she says, \"you've changed.\"\n",
      "He watches her face - her open and steady face - and he knows that she can see through him.\n",
      "Of course she can, how could he think otherwise?\n",
      "But he sees through her as well.\n",
      "She has a willingness, without hesitation, without further thought, to lose everything.\n",
      "Because it is the effort to resist that matters, the effort to preserve the voices and narratives the barrels contain.\n",
      "The effort to keep all of that desperate action from going to waste.\n",
      "In contrast S. has resigned himself to the infinite circle.\n",
      "There will always be another V��voda, another S. No matter what the outcome of his choices.\n",
      "If he lives or dies does not matter.\n",
      "So why push forward when the outcome is always the same?\n",
      "He turns away from Sola.\n",
      "She grabs his wrist.\n",
      "He is terrified of what she must think.\n",
      "Terrified of how she will judge him.\n",
      "Terrified of losing her again.\n",
      "Here is where Time collects, collides, all at once.\n",
      "She pulls him close.\n",
      "\"Trust or faith,\" she says.\n",
      "He finds himself repeating her words without conscious effort.\n",
      "Those three words.\n",
      "They are his words.\n",
      "He had said them in the Winter City.\n",
      "Since then, since that moment, S. had not lost her.\n",
      "They were the words that bound them together.\n",
      "There is a scream, a scream of outrage, from the halls which S. knows is V��voda's.\n",
      "Then another - a high scream of deranged glee.\n",
      "The monkey.\n",
      "S. and Sola follow the yells and shrieks through the twisting halls.\n",
      "They stumble onto a scene - oh, if only S. knew how to paint!\n",
      "how arrestingly strange the image would be - V��voda, white haired, and white bearded, and blanched of color, swings a pistol around wildly trying to draw a bead on the white-muzzled monkey.\n",
      "The monkey seems to have re-acquired the piss-and-vinegar of its youth and is scampering wildly between and under barrels, pulling out the bungs and tossing them far away.\n",
      "V��voda, upon seeing Sola and S. enter the room shifts the focus of the gun from the monkey to them.\n",
      "Tremors shake his hand.\n",
      "He glances nervously at the black wine that pours onto the floor, threatening to stain his shoes.\n",
      "The gun is aimed at S.'s head, and in the way they are standing Sola as well.\n",
      "A pull of the trigger right now would erase both of them, immediately and irrevocably.\n",
      "Sola grab's S.'s hand and squeezes an affirmation that she is there.\n",
      "She has always been there, she will always be there.\n",
      "Her words echo again, [i]We are we and we have been we for a long, long time.\n",
      "[/i] Sola slips S. a lighter, a naphta lighter, the most powerful weapon that anyone in the cellar possesses.\n",
      "He positions his thumb over the flint wheel.\n",
      "\"Put down the gun,\" S. says.\n",
      "V��voda looks to S., looks to Sola.\n",
      "Studies them.\n",
      "Assesses their threat and the truth of it.\n",
      "Perhaps he sees the cool embrace of self-destruction for a noble end in them both.\n",
      "Together it is overpowering.\n",
      "He lowers the gun, tosses it to the ground near S.'s feet.\n",
      "This isn't a threat, he reassures himself, and besides, he'd better go see what his damned son has gotten them into now.\n",
      "V��voda pushes past them and plods up the inclined passage.\n",
      "The monkey continues its work, creating a flood of dark black wine.\n",
      "\"Unless you know how to get back,\" S. says to Sola, \"we should follow him.\"\n",
      "\"Keep the lighter out,\" she tells him, \"and keep your thumb on the wheel.\"\n"
     ]
    }
   ],
   "source": [
    "for item in blob.sentences:\n",
    "    if item.sentiment.polarity < 0.7:\n",
    "        print item.replace('\\n', ' ')"
   ]
  },
  {
   "cell_type": "code",
   "execution_count": 105,
   "metadata": {
    "collapsed": true
   },
   "outputs": [],
   "source": [
    "from textblob import TextBlob\n",
    "blob = TextBlob(open(\"straka_chapter.txt\").read().decode('ascii', errors=\"replace\"))"
   ]
  },
  {
   "cell_type": "code",
   "execution_count": 106,
   "metadata": {
    "collapsed": false
   },
   "outputs": [
    {
     "name": "stdout",
     "output_type": "stream",
     "text": [
      "destroyed.\n",
      "But it must circulate.\n",
      "It must not be contained.\n",
      "And V��voda is the one who contains it.\n",
      "Thus the task remains.\n",
      "When he and Sola have completed it, they will ascend these corridors and reemerge into the world.\n",
      "There may be Agents waiting, but there will be more workers, and they will all carry axes and chisels and any other implements they can use to destroy these barrels and let the black wine- He sniffs: a rank smell cutting through the olfactory fog of blue-black and earth.\n",
      "He recognizes it at the very moment he feels the tug on his trouser leg.\n",
      "The monkey, somehow, looks to be in much more vigorous health, and from its toothless mouth comes a vocalization of a sort that S. has never heard from it, free from taunt or condescension or irritation.\n",
      "It sounds-and here, S. wonders if the air in the cellars is fogging his mind-as if the monkey is mimicking the run of notes in S���s last whistle-call to Sola.\n",
      "The monkey raises one hand, showing S. a jagged chunk of dark-gray rock, turning it back and forth as if it expects the light from the naked bulb ahead of them to catch one of its facets and make it gleam.\n",
      "When S. whispers, \"I don���t understand,\" the monkey darts ahead to the next barrel and beats the rock against its face, circling the bung.\n",
      "The sounds are loud, sharp, and echoing; everyone in the cellars will hear, has already heard.\n",
      "S. lurches toward the monkey, grabs at it, but catches only a tuft of fur which comes away in his hand.\n",
      "Then, with surprising strength and dexterity, the monkey wrenches out the loosened bung and sets the black wine spilling, arcing out into the path where it splatters and puddles on the packed earth.\n",
      "The smell swirling around him is���holy.\n",
      "The spirit inhabits.\n",
      "He hears a faint, euphonious hum of voices and stills himself to listen more closely.\n",
      "And the blue-black sheen on the surface of the puddles-this, this is the precious thing that has caught the light.\n",
      "He holds out a cupped hand, to taste- Sola���s distress call, and a masculine shout.\n",
      "Which came first?\n",
      "How long has he been wavering drunkenly?\n",
      "How long has he been still?\n",
      "This is the choice he makes: he runs forward, deeper into the cellars, toward her.\n",
      "He leaves behind the monkey, who darts to the next barrel.\n",
      "The reports of rock on oak begin anew.\n",
      "He stumbles when the path suddenly dips, cracks his shoulder against a barrel chime, and sprawls, skinning the ground with knee, chin, and palm.\n",
      "His first thought is of Pfeifer, of being immobilized, unable to continue, unable to save himself or anyone else, but he is able to stand.\n",
      "From the murk of somewhere comes a cough, a gurgle.\n",
      "The monkey, no doubt tasting the fruit of its work.\n",
      "S. hobbles, walks, then runs.\n",
      "No broken bones.\n",
      "Pain and nothing more.\n",
      "And the pain awakens him more fully to what he should have understood more fully a long time ago: more important than thwarting V��voda, more important than precious story and its circulation of truth, is Sola.\n",
      "What is most important to him is Sola.\n",
      "His story.\n",
      "Does she know this already?\n",
      "She must.\n",
      "One note from her whistle, but one that he only recognizes as the first syllable of a longer call.\n",
      "Without the rest, its meaning is unclear.\n",
      "He calls back, one note, to acknowledge.\n",
      "I hear you.\n",
      "Implied, he hopes, is: I am coming.\n",
      "I will be there shortly.\n",
      "Do whatever you must do to stay safe.\n",
      "He can no longer conceal his position, anyway, not with the monkey���s noise, and what matters is his message, his reaching across the murky distance to her.\n",
      "Deeper into the twisted descent there are voices, several male, and hers.\n",
      "Forward, while somewhere behind him, somewhere in the cellars where, too, this light cannot reach, the monkey destroys and, S. imagines, prances drunkenly through its destruction.\n",
      "V��voda regards his guests, deposed monarchs who with his help will reassume their rule within the year.\n",
      "A husband and wife.\n",
      "Frivolous people, but well capitalized, and they appear to be enjoying themselves amid this unexpectedly dramatic scene.\n",
      "They have not before experienced such a direct challenge, physical threat.\n",
      "Neither has he, of course, but his Agents have, which is what matters.\n",
      "This first impression has left him ambivalent.\n",
      "The woman sips while her husband helps the Agent complete the arrangements.\n",
      "\"You���ve quite a collection,\" she says.\n",
      "\"The wine attracts them,\" V��voda says.\n",
      "They raise glasses to each other, celebrating their understanding.\n",
      "The husband rises, blots at his vest with a handkerchief.\n",
      "Mops his forehead.\n",
      "Frowns at the blue-black streak that comes away.\n",
      "The Agent straightens his hat.\n",
      "The resistance had knocked it a degree off true.\n",
      "The next time the whistle blows, V��voda nods to him, sends him off to do his work.\n",
      "The voices now sound conversational.\n",
      "Silence would have concerned him, but to hear their calm is terrifying.\n",
      "The sound of an Agent approaching is merely annoying, as it requires his stillness.\n",
      "He crouches in the shadow of a barrel in the darkest part of the passage, midway between the light at one end and the light at the other.\n",
      "These are the footsteps of a man who walks unafraid, who is certain he will have the best of any opposition he encounters.\n",
      "S. withdraws his knife from its sheath.\n",
      "He wishes the Agent would quicken his pace.\n",
      "Sola is all that matters.\n",
      "His nose fills with the rich, rank smell of unwashed fur soaked in blue-black.\n",
      "He turns his head and finds the monkey there, at eye level.\n",
      "It opens its mouth but makes no sound, as if it knows better.\n",
      "Its breath, despite the wine coating its mouth, is the foul smell of decay.\n",
      "But here in the shadows the monkey sits, and S. has little choice but to sit silently beside it and listen to those voices ahead.\n",
      "Where is the rage, the sound of confrontation and struggle?\n",
      "Or even of triumph?\n",
      "The Agent strides past them, in duster and fedora.\n",
      "He is a young man, tall and athletic, all confidence and jutting jaw.\n",
      "What he lacks is care, and S. dispatches him before the Agent even knew he was in danger.\n",
      "As the man���s body trembles into its last, as life slips into earth, S. does nothing but wipe his blade.\n",
      "In the next moment, the Agent is nothing, and S. remains-what?\n",
      "A fury?\n",
      "A purpose?\n",
      "A fitting end?\n",
      "S. moves on.\n",
      "Through the dark: a scatter of whistled notes, as if they were flung carelessly into a wind.\n",
      "It���s not a signal he understands.\n",
      "It���s not their language.\n",
      "The rightful princess laughs quietly to herself.\n",
      "What fun it is, to be full of the loveliest of wines and tootling away like a canary!\n",
      "But their host suddenly appears put out.\n",
      "He is a delightful little man, immaculate of dress, and with that perfect white Charlie-why, the tips of the mustache fairly wink at her when he offers that sly smile!\n",
      "He is their host, and as such his discomfiture is, to be perfectly frank about the whole thing, more than a bit inconsiderate.\n",
      "She hopes it will not worsen and become rude.\n",
      "She does not want to like the man so.\n",
      "He will be extraordinarily helpful to them, and she would not like to feel indebted to a rude person.\n",
      "And now-a pretty pistol in his hand!\n",
      "Waving about!\n",
      "\"Dear me,\" she says quietly to her husband.\n",
      "\"Where did he come by that?\"\n",
      "Her husband does not respond.\n",
      "She ought not have expected him to.\n",
      "He hasn���t looked away from the rack since he finished helping the Agent in that most exciting business.\n",
      "It���s understandable, she supposes, but it���s still a bit rude, even for him.\n",
      "Forward.\n",
      "The monkey runs along with him, so closely as to be nearly underfoot, but they never tangle, never even touch.\n",
      "The two of them might well be one.\n",
      "They make errors as they follow the voice-it���s now just one voice, and S. is certain it���s V��voda���s.\n",
      "They follow pathways that run to dead ends, hesitate at forks before choosing incorrectly and having to double back.\n",
      "S. resents the monkey for not having a more finely-tuned animal sense of direction.\n",
      "He imagines-even as he runs, even as he strains to fix the voice���s location-the life he and Sola might find waiting when they return to the surface, the wine spilled, their work complete.\n",
      "He pictures them boarding the ship to soft-spoken expressions of admiration from the crew, paddling out through the pirate���s passage, and letting the wind send them freely skimming over the seas.\n",
      "He stills this vision in the most perfect of settings: an orange sky, just shy of dusk; a sturdy warm breeze filling the sails; their wake whitening to the water behind them, ever and always marking where they have been but need never go again.\n",
      "This is what awaits, if they can find her in time.\n",
      "But in stilling the vision, he has corrupted it: standing on that imagined ship with her, dread swells within him.\n",
      "The sun, the wind, each other-none of it can beat back the dread that rises when he realizes that these waters are heavily mined.\n",
      "He knows this, somehow, knows that it is folly to pretend they are safe, that they are anything but doomed.\n",
      "It won���t be long before they hit one.\n",
      "The deftest of pilots could not steer them through.\n",
      "These devices, one of which saved his life an age ago, will kill him, and it will kill him at the very moment at which he most wants to live.\n",
      "Their host cocks the pistol.\n",
      "Such a potent but discreet little weapon!\n",
      "His rudeness aside, it���s all quite thrilling.\n",
      "The physics of sound cooperates, finally, and when the sound of the cocked hammer reaches S.���s ears, he knows precisely where the sound came from.\n",
      "He can see, ahead, the path splitting into a T; when he and the monkey turn the corner to the left, they will find the man holding the pistol.\n",
      "It is too late, and he is too close, to bother with stealth.\n",
      "His advantage will be in his speed, in his ferocity, in his absolute need to find her.\n",
      "The monkey screeches, it sounds like a war whoop.\n",
      "S. tightens his damp grip on the knife, and they turn the corner.\n",
      "S. sees the pistol, waving erratically as it is brandished; he notes four wine barrels arranged haphazardly in one corner, startles at how well-lit the room is, intuits that the room is a rectangle and that he and V��voda-this white-haired and white-bearded and anxious and tiny man-are facing each other at its only point of entry or exit.\n",
      "He hurls himself at this man with a firearm, noting two other people in the room and a dumbwaiter on the far wall and knowing that if V��voda manages to get off a shot, the bullet will miss him because V��voda has no training and little nerve; he makes weapons but has never had cause to use them.\n",
      "It is not until the pistol fires and pain rakes his collarbone that he realizes what his instantaneous reconnoitering did not reveal.\n",
      "Where is she?\n",
      "The bullet sails beyond, carrying his skin and blood.\n",
      "It ricochets off an earthen wall, punches through a barrel, and comes to rest in the liquid inside.\n",
      "The knife slides from his grip.\n",
      "It clatters across the floor, a surface of smooth, polished stone.\n",
      "The pistol does the same.\n",
      "They collapse as one, S. above and V��voda pinned below.\n",
      "Close, closer as the small frame struggles beneath him, a pain rippling through his trunk and into the incandescent room.\n",
      "S. hears a furious growl issue from someone���s throat, though he cannot tell if it is V��voda���s or his own.\n",
      "The monkey appears beside them, shrieking, raising itself up with the rock in its hand.\n",
      "S. sees clearly the animal���s face, its small proud chin extending, its simple mouth wide, all the force in its body ready to spring.\n",
      "Time pitches forward as the monkey brings the rock down at them.\n",
      "S. turns his head and hears the sounds of rock against bone, and bone giving way.\n",
      "Once, twice, several times more.\n",
      "On and on.\n",
      "S. rolls himself aside, wipes his face, waits for his breath to return.\n",
      "Sola.\n",
      "He has not seen her and he has not heard her because she is no longer there.\n",
      "They will not ascend to sunlight together, they will not board the ship together.\n",
      "He will never have cause to dread where mines might lurk in the water; he will never have the fortune of concern.\n",
      "He stands, sways.\n",
      "There are paintings on the walls here.\n",
      "There is a low table set with a decanter and crystal.\n",
      "Across the room, there is a woman in a purple gown, tugging at the hand of the man beside her.\n",
      "\"Well,\" the woman says.\n",
      "\"I hope you���re not���\" She does not finish.\n",
      "S. stares, slow to understand what she means.\n",
      "She yanks the man along with her, marching him past S. and the monkey and the remains of V��voda.\n",
      "She is wearing Sola���s whistle about her neck, yet S. cannot think of a reason to stop them, and so they vanish into the cellar maze.\n",
      "He moves himself toward the space where they had been, in front of the barrel rack, because he sees now that it is not all empty.\n",
      "The rack cradles three bodies, each lying face up, each with feet to the wall and heads tilted back over the rim.\n",
      "Gravity arches the throats.\n",
      "The faces are swirled and spattered and streaked in blue-black.\n",
      "On the smooth stone are spatters and streams and the fine settled particles of a blue-black mist.\n",
      "On an adjacent wall, a spray of blue-black, patterned like a shotgun blast.\n",
      "He knows-without even registering the servant���s costume-that the body closest to it is Sola���s.\n",
      "Black wine is still dripping from her mouth.\n",
      "Her lips are still wet.\n",
      "The voices rise again, double him over, but he straightens and moves closer, one hand clamped over the wound on his shoulder.\n",
      "The faces are too darkly inked for him to make out the features until he stands close.\n",
      "Sola.\n",
      "Khatef-Zelh, still young, unchanged from when he met her in El-H___.\n",
      "Corbeau, as she was on the wharf, in the hills, in the cave, in midair.\n",
      "And now, he sees, a fourth body, tiny, nestled between the girl and Corbeau: an infant.\n",
      "The baby from the Territory, he feverishly decides, though it���s difficult to say.\n",
      "Sola should not be here.\n",
      "None of them should be here.\n",
      "But they are here, and it is because he failed them.\n",
      "All of them.\n",
      "The noise in his head: all the voices of all the cities, all the scream and static from the skies over the sea, all the thunder of bombs falling to earth.\n",
      "All the noise of this life of failures, a life that was never even his own to begin with.\n",
      "You toss your rock away, watch it bounce and spin across the floor.\n",
      "You stretch your stiff limbs.\n",
      "The stove-in man���s eyes are open, but you ignore this.\n",
      "You know when a thing is dead.\n",
      "Why would you even think to gaze into a dead eye?\n",
      "Across the room the transparent man raises his hands and presses them over his ears as the wound on his shoulder bleeds freely.\n",
      "He shakes.\n",
      "He shakes so hard you can see a thousand man-shaped outlines within him flutter and blur.\n",
      "He drops to one knee, to the other, to the ground.\n",
      "Your senses are acute-you are made of senses-and from across the room you can hear the voices in his head.\n",
      "So many voices, desperate, raging, pained, hopeless, and all of them are his own.\n",
      "A thousand outlines flutter, but the man is still.\n",
      "His clothing is blood and black wine.\n",
      "You call out and he does not move.\n",
      "His stillness unsettles you.\n",
      "Why sit with the dead?\n",
      "It occurs to you for the first time that this man has never known that he is transparent.\n",
      "But why should it have occurred to you?\n",
      "How could any creature fail to understand such a fundamental thing about itself?\n",
      "You met the transparent man long ago, and that has always been what he is.\n",
      "But as you watch him, slumped, the thousand outlines fluttering, you can sense the space inside him darkening, thickening.\n",
      "You are old.\n",
      "You have seen everything.\n",
      "You have not seen this.\n",
      "The man now has only two wants.\n",
      "His scent carries them to you.\n",
      "He wants to pick up the knife and carve a strange shape into the stove-in man���s face, or maybe into the pale, white-furred skin of his belly, but he does not want that enough to do it.\n",
      "His second want is to strike a match.\n",
      "This alarms you.\n",
      "You are soaked in black wine, and you understand doom.\n",
      "It is instinctive.\n",
      "You stretch again, then approach.\n",
      "Poke the man with your finger.\n",
      "Screech in his ear.\n",
      "Stand, you tell him.\n",
      "Move.\n",
      "He does not know your language but he knows its meaning.\n",
      "Move.\n",
      "Stand.\n",
      "Walk, because this is what must be done.\n",
      "You do not stay underground with the dead.\n",
      "You ascend, you emerge, you breathe.\n",
      "Then you find your way to the water.\n",
      "Where there is water there is a ship, so that is where you go.\n",
      "You pinch his skin.\n",
      "Swat his face.\n",
      "You grab the arm that is not bleeding and tug.\n",
      "Walk, you man, walk.\n",
      "But he does not move, stand, walk, and so you sit, you still yourself, and you think.\n",
      "You wonder if, all this time, there has been something essential about him you have failed to understand.\n"
     ]
    }
   ],
   "source": [
    "for item in blob.sentences:\n",
    "    if item.sentiment.polarity < 0.7:\n",
    "        print item.replace('\\n', ' ')"
   ]
  },
  {
   "cell_type": "code",
   "execution_count": 107,
   "metadata": {
    "collapsed": true
   },
   "outputs": [],
   "source": [
    "for item in blob.sentences:\n",
    "    if item.sentiment.polarity > 0.7:\n",
    "        print item.replace('\\n', ' ')"
   ]
  },
  {
   "cell_type": "code",
   "execution_count": null,
   "metadata": {
    "collapsed": true
   },
   "outputs": [],
   "source": []
  }
 ],
 "metadata": {
  "kernelspec": {
   "display_name": "Python 2",
   "language": "python",
   "name": "python2"
  },
  "language_info": {
   "codemirror_mode": {
    "name": "ipython",
    "version": 2
   },
   "file_extension": ".py",
   "mimetype": "text/x-python",
   "name": "python",
   "nbconvert_exporter": "python",
   "pygments_lexer": "ipython2",
   "version": "2.7.13"
  }
 },
 "nbformat": 4,
 "nbformat_minor": 2
}
